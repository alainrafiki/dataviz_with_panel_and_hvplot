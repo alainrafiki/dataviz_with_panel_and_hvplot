{
 "cells": [
  {
   "cell_type": "code",
   "execution_count": null,
   "id": "7abe5c73-becd-42af-a7f2-62e009033249",
   "metadata": {},
   "outputs": [],
   "source": [
    "import pandas as pd\n",
    "import numpy as np\n",
    "import panel as pn\n",
    "pn.extension('tabulator') \n",
    "# More on this here: https://panel.holoviz.org/reference/widgets/Tabulator.html\n",
    "\n",
    "import hvplot.pandas\n",
    "import os"
   ]
  },
  {
   "cell_type": "code",
   "execution_count": null,
   "id": "19592883-c16c-48d2-b0e2-bf1b625c7410",
   "metadata": {},
   "outputs": [],
   "source": [
    "# Grab some data from Our World in Data. Go to https://github.com/owid/co2-data/blob/master/owid-co2-data.csv and grab the raw data.\n",
    "df = pd.read_csv('https://raw.githubusercontent.com/owid/co2-data/master/owid-co2-data.csv')"
   ]
  },
  {
   "cell_type": "code",
   "execution_count": null,
   "id": "3e56b0bb-717b-4d02-a567-0db9cedab2d3",
   "metadata": {},
   "outputs": [],
   "source": [
    "df"
   ]
  },
  {
   "cell_type": "code",
   "execution_count": null,
   "id": "cd161b89-a92e-4810-abc1-0233d02a8d70",
   "metadata": {},
   "outputs": [],
   "source": [
    "df.columns"
   ]
  },
  {
   "cell_type": "code",
   "execution_count": null,
   "id": "aeb98981-b3d2-4502-94b0-534f5e3462ad",
   "metadata": {},
   "outputs": [],
   "source": [
    "df[df['country'] == 'World']"
   ]
  },
  {
   "cell_type": "markdown",
   "id": "cf8131e9-120f-41db-bbf3-0abad27c3631",
   "metadata": {},
   "source": [
    "# Data Clean Up"
   ]
  },
  {
   "cell_type": "code",
   "execution_count": null,
   "id": "ad4679f1-08fc-44dc-9d7f-ea2065ec1283",
   "metadata": {},
   "outputs": [],
   "source": [
    "# Fill NAs with 0s and create GDP per capita column\n",
    "df = df.fillna(0)\n",
    "df['gdp_per_capita'] = np.where(df['population']!=0, df['gdp']/df['population'],0)"
   ]
  },
  {
   "cell_type": "code",
   "execution_count": null,
   "id": "48f063e5-a1de-47b8-ac6e-3e51a98b1ad3",
   "metadata": {},
   "outputs": [],
   "source": [
    "# Make dataframe pipeline interactive\n",
    "idf = df.interactive()"
   ]
  },
  {
   "cell_type": "markdown",
   "id": "36c4955b-8010-4194-aee2-6ed6a5b31f9b",
   "metadata": {},
   "source": [
    "# CO2 emission over time per continent"
   ]
  },
  {
   "cell_type": "code",
   "execution_count": null,
   "id": "5041ffa9-0844-4dc0-9fd1-7382140e1af5",
   "metadata": {},
   "outputs": [],
   "source": [
    "# Define the Panel widgets\n",
    "# Find out more widgets here: panel.holoviz.org/user_guide/Widgets.html\n",
    "year_slider = pn.widgets.IntSlider(name='Year Slider', start=1750, end=2020, step=5, value=1850)\n",
    "year_slider"
   ]
  },
  {
   "cell_type": "code",
   "execution_count": null,
   "id": "a082928e-ab81-4ca4-ab63-aea828745662",
   "metadata": {},
   "outputs": [],
   "source": [
    "# Radio buttons for CO2 measures\n",
    "yaxis_co2 = pn.widgets.RadioButtonGroup(\n",
    "    name = 'Y axis',\n",
    "    options = ['co2', 'co2_per_capita',],\n",
    "    button_type = 'success'\n",
    ")"
   ]
  },
  {
   "cell_type": "code",
   "execution_count": null,
   "id": "f46e058d-4784-42c1-a078-c6c5ed7518d2",
   "metadata": {},
   "outputs": [],
   "source": [
    "# Let's create a CO2 Data Pipeline\n",
    "continents = ['World', 'Asia', 'Oceania', 'Europe', 'Africa', 'North America', 'South America', 'Antarctica' ]\n",
    "\n",
    "co2_pipeline = (\n",
    "    idf[\n",
    "        (idf.year <= year_slider) &\n",
    "        (idf.country.isin(continents))\n",
    "    ]\n",
    "    .groupby(['country', 'year'])[yaxis_co2].mean()\n",
    "    .to_frame()\n",
    "    .reset_index()\n",
    "    .sort_values(by='year')\n",
    "    .reset_index(drop=True)\n",
    ")"
   ]
  },
  {
   "cell_type": "code",
   "execution_count": null,
   "id": "bf78c5b3-bffb-4a53-8e73-3b80b337f843",
   "metadata": {},
   "outputs": [],
   "source": [
    "# Here is what the data pipeline looks like\n",
    "co2_pipeline.head(n=10)"
   ]
  },
  {
   "cell_type": "code",
   "execution_count": null,
   "id": "36dfeba5-53e9-4609-8f7b-b19821513dc7",
   "metadata": {},
   "outputs": [],
   "source": [
    "# Here is a plot of the data pipeline\n",
    "co2_plot = co2_pipeline.hvplot(x = 'year', by = 'country', y=yaxis_co2, line_width=2, title = 'CO2 Emission by Continent')\n",
    "co2_plot"
   ]
  },
  {
   "cell_type": "markdown",
   "id": "5f342374-f9ad-450c-9f3d-903c4e914513",
   "metadata": {},
   "source": [
    "# Table of CO2 Emission Over Time By Continent"
   ]
  },
  {
   "cell_type": "code",
   "execution_count": null,
   "id": "cd715950-a56e-4435-b236-3f68f4a82496",
   "metadata": {},
   "outputs": [],
   "source": [
    "co2_table = co2_pipeline.pipe(pn.widgets.Tabulator, pagination='remote', page_size = 10, sizing_mode='stretch_width')\n",
    "co2_table"
   ]
  },
  {
   "cell_type": "code",
   "execution_count": null,
   "id": "cd5edc6a-233f-4ca1-9256-dd2e1c38a2ed",
   "metadata": {},
   "outputs": [],
   "source": [
    "# Let's build a new timeline for CO2 vs. GDP. \n",
    "# We will look at countries and not continents this time.\n",
    "\n",
    "co2_vs_gdp_scatterplot_pipeline = (\n",
    "    idf[\n",
    "        (idf.year == year_slider) &\n",
    "        (~ (idf.country.isin(continents)))\n",
    "    ]\n",
    "    .groupby(['country', 'year', 'gdp_per_capita'])['co2'].mean()\n",
    "    .to_frame()\n",
    "    .reset_index()\n",
    "    .sort_values(by='year')\n",
    "    .reset_index(drop=True)\n",
    ")"
   ]
  },
  {
   "cell_type": "code",
   "execution_count": null,
   "id": "a6136d1b-be1e-421f-a525-32b81b1db1cf",
   "metadata": {},
   "outputs": [],
   "source": [
    "# Quick preview of the head of the pipeline\n",
    "co2_vs_gdp_scatterplot_pipeline.head(n=15)"
   ]
  },
  {
   "cell_type": "code",
   "execution_count": null,
   "id": "5aa4e830-08dd-4dbb-8e73-7bfa6ed8b16f",
   "metadata": {},
   "outputs": [],
   "source": [
    "# Now let's build the scatterplot that's based on the pipeline above\n",
    "co2_vs_gdp_scatterplot = co2_vs_gdp_scatterplot_pipeline.hvplot(x = 'gdp_per_capita', y = 'co2', by = 'country', size = 80, kind = 'scatter', alpha = 0.7, legend = False, height = 500, width = 500)\n",
    "\n",
    "# View the scatterplot\n",
    "co2_vs_gdp_scatterplot"
   ]
  },
  {
   "cell_type": "markdown",
   "id": "d30bcc9c-01a9-477b-b693-93db9ca54b52",
   "metadata": {},
   "source": [
    "# Bar Chart with CO2 Sources by Continent"
   ]
  },
  {
   "cell_type": "code",
   "execution_count": null,
   "id": "38a836fd-43be-4202-9d3c-e51eb9a6ada8",
   "metadata": {},
   "outputs": [],
   "source": [
    "yaxis_co2_source = pn.widgets.RadioButtonGroup(\n",
    "    name = 'Y axis',\n",
    "    options = ['coal_co2', 'oil_co2', 'gas_co2'],\n",
    "    button_type = 'success'\n",
    ")\n",
    "\n",
    "continents_excl_world = ['Asia', 'Oceania', 'Europe', 'Africa', 'North America', 'South America', 'Antarctica' ]\n",
    "co2_source_bar_pipeline = (\n",
    "    idf[\n",
    "        (idf.year == year_slider) &\n",
    "        (idf.country.isin(continents_excl_world))\n",
    "    ]\n",
    "    .groupby(['year', 'country'])[yaxis_co2_source].sum()\n",
    "    .to_frame()\n",
    "    .reset_index()\n",
    "    .sort_values(by='year')\n",
    "    .reset_index(drop=True)\n",
    ")"
   ]
  },
  {
   "cell_type": "code",
   "execution_count": null,
   "id": "e0db8003-8a9b-40b5-9832-052840a8ed04",
   "metadata": {},
   "outputs": [],
   "source": [
    "co2_source_bar_plot = co2_source_bar_pipeline.hvplot(kind = 'bar', x = 'country',xlabel = 'Continents', y = yaxis_co2_source, title = 'CO2 Source by Continent')\n",
    "co2_source_bar_plot"
   ]
  },
  {
   "cell_type": "markdown",
   "id": "256c7f6a-12b7-4723-b22d-b6e727c96488",
   "metadata": {},
   "source": [
    "# Let's Create the Dashboard"
   ]
  },
  {
   "cell_type": "code",
   "execution_count": null,
   "id": "47590919-9da3-4830-98b0-6965da4b76bf",
   "metadata": {
    "scrolled": true
   },
   "outputs": [],
   "source": [
    "# Layout using the FastListTemplate\n",
    "# More on the template here: https://panel.holoviz.org/reference/templates/FastListTemplate.html\n",
    "\n",
    "# Get the directory of the current Jupyter Notebook\n",
    "notebook_dir = os.path.dirname(os.path.abspath(\"__file__\"))\n",
    "\n",
    "# Construct the path to your image relative to the notebook's directory\n",
    "image_path = os.path.join(notebook_dir, \"co2_dashboard_practice/img/randomimage.png\")\n",
    "\n",
    "fast_list_template = pn.template.FastListTemplate(\n",
    "    title = 'CO2 Emission Dashboard based on Data from Our World in Data',\n",
    "    sidebar = [\n",
    "        pn.pane.Markdown(\"# CO2 Emissions and Climate Change\"),\n",
    "        pn.pane.Markdown(\"#### Carbon dioxide emissions are believed to be the primary drivers of global climate change.\"),\n",
    "        pn.pane.Markdown(\"## Simple Image\"),\n",
    "        pn.pane.PNG(image_path, sizing_mode = 'scale_both'),\n",
    "        pn.pane.Markdown(\"## Settings\"),\n",
    "        year_slider],\n",
    "    main = [\n",
    "        pn.Row(pn.Column(yaxis_co2, co2_plot.panel(width=700), margin=(0,25)), \n",
    "               co2_table.panel(width=500)),\n",
    "        pn.Row(pn.Column(co2_vs_gdp_scatterplot.panel(width=600), margin=(0,25)),\n",
    "              pn.Column(yaxis_co2_source, co2_source_bar_plot.panel(width=600)))\n",
    "    ],\n",
    "    accent_base_color = \"#88d8b0\",\n",
    "    header_background = \"#88d8b0\",\n",
    ")\n",
    "\n",
    "# Time to display the dashboard\n",
    "fast_list_template.servable();"
   ]
  },
  {
   "cell_type": "markdown",
   "id": "46f5286d-6ade-4c62-8be4-54d3c39ca091",
   "metadata": {},
   "source": [
    "# Launch the Dashboard via Terminal\n",
    "\n",
    "At this point in the process, go to the terminal. Preferably in the same virtual environment as this notebook. If possible, use the terminal console in this instance of Jupyter Lab where the notebook is live. After typing \"panel serve thisnotebookname.ipynb\" in the terminal, there should come a URL in the terminal that you can then copy and paste in a browser to vide the dashboards."
   ]
  }
 ],
 "metadata": {
  "kernelspec": {
   "display_name": "Python 3 (ipykernel)",
   "language": "python",
   "name": "python3"
  },
  "language_info": {
   "codemirror_mode": {
    "name": "ipython",
    "version": 3
   },
   "file_extension": ".py",
   "mimetype": "text/x-python",
   "name": "python",
   "nbconvert_exporter": "python",
   "pygments_lexer": "ipython3",
   "version": "3.9.18"
  }
 },
 "nbformat": 4,
 "nbformat_minor": 5
}
